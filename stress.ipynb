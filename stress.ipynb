{
 "cells": [
  {
   "cell_type": "code",
   "execution_count": 80,
   "id": "b501ba31-0c5d-4223-b679-7f096ac448a3",
   "metadata": {},
   "outputs": [
    {
     "name": "stdout",
     "output_type": "stream",
     "text": [
      "Sample Data:\n",
      "   rolling_1  rolling_2  rolling_3  rolling_4  rolling_5  rolling_6  \\\n",
      "0  -0.150552   0.540857   0.278393   0.118390  -0.412778  -0.412807   \n",
      "1   0.368928   0.475310  -0.218396  -0.467938  -0.326478  -0.087471   \n",
      "2   0.528550   0.544714   0.497837  -0.155810  -0.581452   0.513982   \n",
      "3  -0.134196   0.171946  -0.050097   0.054740   0.529758  -0.136677   \n",
      "4   0.155278   0.234898  -0.054551   0.153070   0.101177   0.481390   \n",
      "\n",
      "   rolling_7  rolling_8  rolling_9  rolling_10  ...  pitching_52  pitching_53  \\\n",
      "0  -0.530300   0.439411   0.121338    0.249687  ...    -0.677557     0.859395   \n",
      "1   0.381618   0.432877  -0.591657    0.012897  ...     0.005274     0.153808   \n",
      "2  -0.086179   0.559986   0.556344    0.423611  ...     0.712980     0.317387   \n",
      "3   0.553429   0.486421  -0.365051   -0.516766  ...     0.939758    -0.913680   \n",
      "4  -0.545464  -0.262844   0.540494    0.468317  ...     0.281749    -0.636240   \n",
      "\n",
      "   pitching_54  pitching_55  pitching_56  pitching_57  pitching_58  \\\n",
      "0     0.616241     0.266808     0.742921     0.607344    -0.626860   \n",
      "1    -0.014965    -0.609514     0.444904    -0.438455    -0.951368   \n",
      "2    -0.674131    -0.858863     0.284839    -0.946977     0.171551   \n",
      "3     0.782286     0.055402     0.985930    -0.852407     0.107709   \n",
      "4    -0.308665     0.793577    -0.052077     0.335115    -0.655360   \n",
      "\n",
      "   pitching_59  pitching_60    stress  \n",
      "0     0.785118     0.078684  5.284366  \n",
      "1     0.290945    -0.645779  5.235396  \n",
      "2     0.880460     0.150948  4.670203  \n",
      "3     0.938605     0.046196  6.377301  \n",
      "4    -0.615422    -0.918263  4.686458  \n",
      "\n",
      "[5 rows x 121 columns]\n"
     ]
    }
   ],
   "source": [
    "import numpy as np\n",
    "import pandas as pd\n",
    "\n",
    "def generate_data_with_features(samples=1000, seconds=60):\n",
    "    np.random.seed(42)\n",
    "    \n",
    "    rolling_data = []\n",
    "    pitching_data = []\n",
    "    stress_values = []\n",
    "\n",
    "    for _ in range(samples):\n",
    "        rolling_sample = np.random.uniform(-0.6, 0.6, seconds)\n",
    "        pitching_sample = np.random.uniform(-1.0, 1.0, seconds)\n",
    "        \n",
    "        rolling_mean_change = np.mean(np.abs(np.diff(rolling_sample)))\n",
    "        pitching_mean_change = np.mean(np.abs(np.diff(pitching_sample)))\n",
    "        \n",
    "        stress = rolling_mean_change * 5 + pitching_mean_change * 5  # Weighted sum\n",
    "        \n",
    "        stress = max(0, min(10, stress))\n",
    "        \n",
    "        rolling_data.append(rolling_sample)\n",
    "        pitching_data.append(pitching_sample)\n",
    "        stress_values.append(stress)\n",
    "\n",
    "    rolling_columns = [f'rolling_{i+1}' for i in range(seconds)]\n",
    "    pitching_columns = [f'pitching_{i+1}' for i in range(seconds)]\n",
    "    data = pd.DataFrame(rolling_data, columns=rolling_columns)\n",
    "    data = pd.concat([data, pd.DataFrame(pitching_data, columns=pitching_columns)], axis=1)\n",
    "    data['stress'] = stress_values\n",
    "    \n",
    "    return data\n",
    "\n",
    "data = generate_data_with_features(samples=1000, seconds=60)\n",
    "print(\"Sample Data:\")\n",
    "print(data.head())\n"
   ]
  },
  {
   "cell_type": "code",
   "execution_count": 81,
   "id": "5504f28d-7e46-4566-b298-6f4d5d0a5271",
   "metadata": {},
   "outputs": [],
   "source": [
    "from sklearn.preprocessing import MinMaxScaler\n",
    "from sklearn.model_selection import train_test_split\n",
    "\n",
    "def preprocess_and_extract_features(data):\n",
    "    features = pd.DataFrame()\n",
    "    seconds = 60\n",
    "\n",
    "    rolling_cols = [f'rolling_{i+1}' for i in range(seconds)]\n",
    "    pitching_cols = [f'pitching_{i+1}' for i in range(seconds)]\n",
    "    \n",
    "    features['rolling_mean_change'] = data[rolling_cols].diff(axis=1).abs().mean(axis=1)\n",
    "    features['rolling_std'] = data[rolling_cols].std(axis=1)\n",
    "    features['pitching_mean_change'] = data[pitching_cols].diff(axis=1).abs().mean(axis=1)\n",
    "    features['pitching_std'] = data[pitching_cols].std(axis=1)\n",
    "    \n",
    "    y = data['stress']\n",
    "    \n",
    "    scaler = MinMaxScaler()\n",
    "    X_scaled = scaler.fit_transform(features)\n",
    "    \n",
    "    X_train, X_test, y_train, y_test = train_test_split(X_scaled, y, test_size=0.2, random_state=42)\n",
    "    return X_train, X_test, y_train, y_test, scaler\n",
    "\n",
    "X_train, X_test, y_train, y_test, scaler = preprocess_and_extract_features(data)\n"
   ]
  },
  {
   "cell_type": "code",
   "execution_count": 83,
   "id": "16a65fd8-a4d9-4986-a80b-8f66325b5fce",
   "metadata": {},
   "outputs": [],
   "source": [
    "from sklearn.ensemble import RandomForestRegressor\n",
    "\n",
    "def train_random_forest(X_train, y_train, n_estimators=100):\n",
    "    model = RandomForestRegressor(n_estimators=n_estimators, random_state=42)\n",
    "    model.fit(X_train, y_train)\n",
    "    return model\n",
    "\n",
    "model = train_random_forest(X_train, y_train, n_estimators=200)\n"
   ]
  },
  {
   "cell_type": "code",
   "execution_count": 84,
   "id": "2c5c424c-326e-4491-b521-432842d17e92",
   "metadata": {},
   "outputs": [
    {
     "name": "stdout",
     "output_type": "stream",
     "text": [
      "MSE: 0.0022\n",
      "R2 Score: 0.9849\n"
     ]
    }
   ],
   "source": [
    "from sklearn.metrics import mean_squared_error, r2_score\n",
    "\n",
    "def evaluate_model(model, X_test, y_test):\n",
    "    y_pred = model.predict(X_test)\n",
    "    mse = mean_squared_error(y_test, y_pred)\n",
    "    r2 = r2_score(y_test, y_pred)\n",
    "    return {'mse': mse, 'r2': r2, 'predictions': y_pred}\n",
    "\n",
    "metrics = evaluate_model(model, X_test, y_test)\n",
    "print(f\"MSE: {metrics['mse']:.4f}\")\n",
    "print(f\"R2 Score: {metrics['r2']:.4f}\")\n"
   ]
  },
  {
   "cell_type": "code",
   "execution_count": 85,
   "id": "e5741772-30fe-485d-97f4-0c4a30a03184",
   "metadata": {},
   "outputs": [
    {
     "name": "stdout",
     "output_type": "stream",
     "text": [
      "Predicted Stress Level: 4.72\n"
     ]
    }
   ],
   "source": [
    "def predict_stress(model, scaler, rolling_data, pitching_data):\n",
    "    features = {}\n",
    "    features['rolling_mean_change'] = np.mean(np.abs(np.diff(rolling_data)))\n",
    "    features['rolling_std'] = np.std(rolling_data)\n",
    "    features['pitching_mean_change'] = np.mean(np.abs(np.diff(pitching_data)))\n",
    "    features['pitching_std'] = np.std(pitching_data)\n",
    "    \n",
    "    input_df = pd.DataFrame([features])\n",
    "    input_scaled = scaler.transform(input_df)\n",
    "    \n",
    "    stress_prediction = model.predict(input_scaled)\n",
    "    return stress_prediction[0]\n",
    "\n",
    "user_rolling = np.random.uniform(-0.6, 0.6, 60).tolist()\n",
    "user_pitching = np.random.uniform(-1.0, 1.0, 60).tolist()\n",
    "\n",
    "predicted_stress = predict_stress(model, scaler, user_rolling, user_pitching)\n",
    "print(f\"Predicted Stress Level: {predicted_stress:.2f}\")\n"
   ]
  },
  {
   "cell_type": "code",
   "execution_count": 86,
   "id": "49e01197-05c6-4f4b-b294-9df16ce7e7d7",
   "metadata": {},
   "outputs": [
    {
     "name": "stdout",
     "output_type": "stream",
     "text": [
      "Model saved to stress_model.pkl\n",
      "Scaler saved to scaler.pkl\n"
     ]
    }
   ],
   "source": [
    "import joblib\n",
    "\n",
    "def save_model(model, scaler, model_path=\"stress_model.pkl\", scaler_path=\"scaler.pkl\"):\n",
    "    joblib.dump(model, model_path)\n",
    "    joblib.dump(scaler, scaler_path)\n",
    "    print(f\"Model saved to {model_path}\")\n",
    "    print(f\"Scaler saved to {scaler_path}\")\n",
    "\n",
    "save_model(model, scaler)\n"
   ]
  },
  {
   "cell_type": "code",
   "execution_count": null,
   "id": "06cff2d2-3107-4877-9fb3-a2b6f96f6d7a",
   "metadata": {},
   "outputs": [],
   "source": []
  }
 ],
 "metadata": {
  "kernelspec": {
   "display_name": "Python 3 (ipykernel)",
   "language": "python",
   "name": "python3"
  },
  "language_info": {
   "codemirror_mode": {
    "name": "ipython",
    "version": 3
   },
   "file_extension": ".py",
   "mimetype": "text/x-python",
   "name": "python",
   "nbconvert_exporter": "python",
   "pygments_lexer": "ipython3",
   "version": "3.12.7"
  }
 },
 "nbformat": 4,
 "nbformat_minor": 5
}
